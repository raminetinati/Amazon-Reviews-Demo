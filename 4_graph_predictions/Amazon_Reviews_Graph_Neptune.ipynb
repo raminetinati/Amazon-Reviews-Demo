{
 "cells": [
  {
   "attachments": {
    "image.png": {
     "image/png": "[encoded data removed]"
    }
   },
   "cell_type": "markdown",
   "metadata": {},
   "source": [
    "# Amazon Reviews - Graphing Predictions for Analysis\n",
    "\n",
    "In the previous stages of our data science pipeline, we've developed insights into the structure of our Amazon Reviews data, how NLP techniques can be used to classify different attributes (e.g. Product Category), and how we can then take the most appropriate method and scale it up.\n",
    "\n",
    "We're now going to look at how we can use a simple graph to to develop a graphed version of the dataset we're exploring, and then use specific queries to retrieve analytical insights, which combine the predictions and the original datasets.\n",
    "\n",
    "In the following example we're going to be using a `ruruki` as a lightweight python implementation of a graph database, however, the same methodology can be applied to more robust solutions such as Amazon [Neptune](https://aws.amazon.com/neptune/)\n",
    "\n",
    "**Graph Structure**\n",
    "\n",
    "We're going to create the following network structure to begin with, and combine the original attributes of the dataset (reviews, customers, products, product categories), with the output from our predicted product category.\n",
    "\n",
    "![image.png](attachment:image.png)"
   ]
  },
  {
   "cell_type": "markdown",
   "metadata": {},
   "source": [
    "### Imports\n",
    "\n",
    "The following imports are required in order to run different statistical tests and modelling techniques."
   ]
  },
  {
   "cell_type": "code",
   "execution_count": 1,
   "metadata": {},
   "outputs": [],
   "source": [
    "# NOTE: Uncomment the folllowing lines on first run of the notebook.\n",
    "# !pip install --upgrade pip\n",
    "# !pip install ruruki\n",
    "# !pip install pyvis"
   ]
  },
  {
   "cell_type": "code",
   "execution_count": 41,
   "metadata": {},
   "outputs": [],
   "source": [
    "import boto3\n",
    "import sagemaker\n",
    "from s3_concat import S3Concat\n",
    "import sys\n",
    "import os\n",
    "import re\n",
    "import numpy as np\n",
    "import pandas as pd\n",
    "import subprocess\n",
    "from sagemaker import get_execution_role\n",
    "from sagemaker.amazon.amazon_estimator import get_image_uri\n",
    "import gzip\n",
    "from io import BytesIO\n",
    "import zipfile\n",
    "import random\n",
    "import json\n",
    "import matplotlib.pyplot as plt\n",
    "import matplotlib.image as mpimg\n",
    "from sklearn.metrics import classification_report\n",
    "import nltk\n",
    "from fastparquet import write\n",
    "from fastparquet import ParquetFile\n",
    "import s3fs\n",
    "import pyarrow.parquet as pq\n",
    "import pickle\n",
    "import glob\n",
    "import ast \n",
    "import csv\n",
    "import itertools\n",
    "import dask.dataframe as dd\n",
    "from dask.multiprocessing import get\n",
    "import multiprocessing\n",
    "import datetime\n",
    "\n",
    "from sklearn.feature_extraction.text import CountVectorizer\n",
    "from sklearn.feature_extraction.text import TfidfTransformer\n",
    "from collections import OrderedDict\n",
    "\n",
    "from sklearn.model_selection import train_test_split\n",
    "from sklearn.svm import LinearSVC\n",
    "from sklearn import metrics\n",
    "\n",
    "\n",
    "from ruruki.graphs import Graph\n",
    "import pyvis\n",
    "from pyvis.network import Network"
   ]
  },
  {
   "cell_type": "markdown",
   "metadata": {},
   "source": [
    "### Configs and Global Vars\n",
    "\n",
    "Throughout the notebook we're going to store all our global variables (although all variables inside a notebook are global if they are not defined in a method), inside an array."
   ]
  },
  {
   "cell_type": "code",
   "execution_count": 168,
   "metadata": {},
   "outputs": [],
   "source": [
    "configs = {\n",
    "    'aws_region' :  'us-east-1',\n",
    "    'bucket_name': 'demos-amazon-reviews',\n",
    "    'prefix' : 'preprocessed_reviews_csvs', #only use this if you want to have your files in a folder \n",
    "    'index_key' : 'review_date_str',\n",
    "    'file_extension' :'.csv',\n",
    "    'wordvecdata': 'wordvec-full-data',\n",
    "    'models_dir': 'models',\n",
    "    'label_column':'product_category',\n",
    "    'text_column': 'review_body_processed',\n",
    "    'class_labels_pickle_filename':'class_labels.pkl',\n",
    "    'bt_model_name':'blazingtext-2020-05-11-09-42-44-125'\n",
    "\n",
    "}"
   ]
  },
  {
   "cell_type": "code",
   "execution_count": 38,
   "metadata": {},
   "outputs": [],
   "source": [
    "#initilize empty\n",
    "global_vars = {}"
   ]
  },
  {
   "cell_type": "markdown",
   "metadata": {},
   "source": [
    "### Environment Setup\n",
    "\n",
    "Setting up the environment involves ensuring all the corret session and IAM roles are configured. We also need to ensure the correct region and bucket is made available."
   ]
  },
  {
   "cell_type": "code",
   "execution_count": 39,
   "metadata": {},
   "outputs": [
    {
     "name": "stdout",
     "output_type": "stream",
     "text": [
      "Bucket already exists\n"
     ]
    }
   ],
   "source": [
    "def setup_env(configs, global_vars):\n",
    "    sess = sagemaker.Session()\n",
    "    role = get_execution_role()\n",
    "    AWS_REGION = configs['aws_region']\n",
    "    s3 = boto3.resource('s3')\n",
    "    s3_bucket = s3.Bucket(configs['bucket_name'])\n",
    "\n",
    "    if s3_bucket.creation_date == None:\n",
    "    # create S3 bucket because it does not exist yet\n",
    "        print('Creating S3 bucket {}.'.format(bucket))\n",
    "        resp = s3.create_bucket(\n",
    "            ACL='private',\n",
    "            Bucket=bucket\n",
    "        )\n",
    "    else:\n",
    "        print('Bucket already exists')\n",
    "        \n",
    "    global_vars['role'] = role\n",
    "    global_vars['sess'] = sess\n",
    "    global_vars['s3'] = s3\n",
    "    global_vars['s3_bucket'] = s3_bucket\n",
    "    \n",
    "    return global_vars\n",
    "\n",
    "global_vars = setup_env(configs, global_vars)"
   ]
  },
  {
   "cell_type": "markdown",
   "metadata": {},
   "source": [
    "### Create Data Manifest\n",
    "\n",
    "At this step, we need to create an index of all the files we're going to be using for this experiment and model building. Now, we don't want to download all of the data at once, or we're going to cause a lot of I/O activity for your Notebook Instance. \n",
    "\n",
    "What we're going to do is first create a path index to where the files live on S3. From there, we can do some sampling to get to see what the data looks like, do some basic sampling stats on the data, to get a better handle on how we should build a model, and then move to using all the data to build a robust model!"
   ]
  },
  {
   "cell_type": "code",
   "execution_count": 40,
   "metadata": {},
   "outputs": [
    {
     "name": "stdout",
     "output_type": "stream",
     "text": [
      "Processed 100 files\n",
      "Processed 200 files\n",
      "Training Dataset Size 241\n"
     ]
    }
   ],
   "source": [
    "def create_dataset_manifest(configs, global_vars):\n",
    "    interval_printer_idx = 100\n",
    "    idx = 0\n",
    "    1\n",
    "    conn = global_vars['s3_bucket']\n",
    "    file_format = configs['file_extension']\n",
    "    index_key = configs['index_key']+'='\n",
    "    s3_prefix = configs['prefix']+'/'\n",
    "    manifest = []    \n",
    "    for file in conn.objects.filter(Prefix=s3_prefix):\n",
    "        path = file.key\n",
    "#         print(file)\n",
    "        if (file_format in path):\n",
    "#             print(path)\n",
    "            relative_path = path.replace(configs['prefix'],'')\n",
    "            date = relative_path.split('/')[1].replace(index_key,'')\n",
    "\n",
    "            man = {'idx':idx, 'path':relative_path, 'path_with_prefix':path, 'date':date}\n",
    "            manifest.append(man)  \n",
    "            idx += 1\n",
    "            if (idx % interval_printer_idx) == 0:\n",
    "                print('Processed {} files'.format(idx))\n",
    "    print('Training Dataset Size {}'.format(len(manifest)))\n",
    "    return manifest\n",
    "            \n",
    "manifest = create_dataset_manifest(configs, global_vars)   \n",
    "    "
   ]
  },
  {
   "cell_type": "markdown",
   "metadata": {},
   "source": [
    "### Download Sample Data"
   ]
  },
  {
   "cell_type": "code",
   "execution_count": 45,
   "metadata": {},
   "outputs": [
    {
     "name": "stderr",
     "output_type": "stream",
     "text": [
      "b'Skipping line 79951: expected 18 fields, saw 22\\n'\n"
     ]
    },
    {
     "name": "stdout",
     "output_type": "stream",
     "text": [
      "2003-12 (96123, 18)\n"
     ]
    }
   ],
   "source": [
    "def download_sample(configs, global_vars, manifest):\n",
    "    \n",
    "    entry = manifest[100]\n",
    "    ile_format = configs['file_extension']\n",
    "    index_key = configs['index_key']+'='\n",
    "    s3_prefix = configs['prefix']+'/'\n",
    "    date = entry['path'].split('/')[1].replace(index_key,'')\n",
    "    #get the meta data \n",
    "    full_path = 's3://'+configs['bucket_name']+'/'+entry['path_with_prefix']\n",
    "    df = pd.read_csv(full_path, header=0, error_bad_lines=False, escapechar=\"\\\\\")\n",
    "    print(date, df.shape)\n",
    "    return df\n",
    "\n",
    "sample_data = download_sample(configs, global_vars, manifest)  "
   ]
  },
  {
   "cell_type": "code",
   "execution_count": 170,
   "metadata": {},
   "outputs": [
    {
     "data": {
      "text/html": [
       "<div>\n",
       "<style scoped>\n",
       "    .dataframe tbody tr th:only-of-type {\n",
       "        vertical-align: middle;\n",
       "    }\n",
       "\n",
       "    .dataframe tbody tr th {\n",
       "        vertical-align: top;\n",
       "    }\n",
       "\n",
       "    .dataframe thead th {\n",
       "        text-align: right;\n",
       "    }\n",
       "</style>\n",
       "<table border=\"1\" class=\"dataframe\">\n",
       "  <thead>\n",
       "    <tr style=\"text-align: right;\">\n",
       "      <th></th>\n",
       "      <th>marketplace</th>\n",
       "      <th>customer_id</th>\n",
       "      <th>review_id</th>\n",
       "      <th>product_id</th>\n",
       "      <th>product_parent</th>\n",
       "      <th>product_title</th>\n",
       "      <th>star_rating</th>\n",
       "      <th>helpful_votes</th>\n",
       "      <th>total_votes</th>\n",
       "      <th>vine</th>\n",
       "      <th>verified_purchase</th>\n",
       "      <th>review_headline</th>\n",
       "      <th>review_body</th>\n",
       "      <th>review_date</th>\n",
       "      <th>year</th>\n",
       "      <th>product_category</th>\n",
       "      <th>body_len</th>\n",
       "      <th>review_body_processed</th>\n",
       "    </tr>\n",
       "  </thead>\n",
       "  <tbody>\n",
       "    <tr>\n",
       "      <th>0</th>\n",
       "      <td>US</td>\n",
       "      <td>32929367</td>\n",
       "      <td>R2AYE93KTPIQFD</td>\n",
       "      <td>B00009WAUO</td>\n",
       "      <td>121192178</td>\n",
       "      <td>Super Mario Advance 4: Super Mario Bros 3</td>\n",
       "      <td>5</td>\n",
       "      <td>7</td>\n",
       "      <td>7</td>\n",
       "      <td>N</td>\n",
       "      <td>N</td>\n",
       "      <td>The Best Mario Advance Yet</td>\n",
       "      <td>Nintendo could learn a thing or so from its pa...</td>\n",
       "      <td>2003-12-09</td>\n",
       "      <td>2003</td>\n",
       "      <td>Video_Games</td>\n",
       "      <td>3263</td>\n",
       "      <td>[nintendo, could, learn, thing, past, gamer, n...</td>\n",
       "    </tr>\n",
       "    <tr>\n",
       "      <th>1</th>\n",
       "      <td>US</td>\n",
       "      <td>48492699</td>\n",
       "      <td>R3P8SM9UAG6ZJ4</td>\n",
       "      <td>B000067QD5</td>\n",
       "      <td>309256386</td>\n",
       "      <td>Xbox System Link Cable</td>\n",
       "      <td>1</td>\n",
       "      <td>21</td>\n",
       "      <td>25</td>\n",
       "      <td>N</td>\n",
       "      <td>N</td>\n",
       "      <td>Don't waste your money.</td>\n",
       "      <td>Have a techy friend make you a CAT 5 ethernet ...</td>\n",
       "      <td>2003-12-12</td>\n",
       "      <td>2003</td>\n",
       "      <td>Video_Games</td>\n",
       "      <td>136</td>\n",
       "      <td>[techy, friend, make, cat, 5, ethernet, cable,...</td>\n",
       "    </tr>\n",
       "  </tbody>\n",
       "</table>\n",
       "</div>"
      ],
      "text/plain": [
       "  marketplace  customer_id       review_id  product_id  product_parent  \\\n",
       "0          US     32929367  R2AYE93KTPIQFD  B00009WAUO       121192178   \n",
       "1          US     48492699  R3P8SM9UAG6ZJ4  B000067QD5       309256386   \n",
       "\n",
       "                               product_title  star_rating  helpful_votes  \\\n",
       "0  Super Mario Advance 4: Super Mario Bros 3            5              7   \n",
       "1                     Xbox System Link Cable            1             21   \n",
       "\n",
       "   total_votes vine verified_purchase             review_headline  \\\n",
       "0            7    N                 N  The Best Mario Advance Yet   \n",
       "1           25    N                 N     Don't waste your money.   \n",
       "\n",
       "                                         review_body review_date  year  \\\n",
       "0  Nintendo could learn a thing or so from its pa...  2003-12-09  2003   \n",
       "1  Have a techy friend make you a CAT 5 ethernet ...  2003-12-12  2003   \n",
       "\n",
       "  product_category  body_len  \\\n",
       "0      Video_Games      3263   \n",
       "1      Video_Games       136   \n",
       "\n",
       "                               review_body_processed  \n",
       "0  [nintendo, could, learn, thing, past, gamer, n...  \n",
       "1  [techy, friend, make, cat, 5, ethernet, cable,...  "
      ]
     },
     "execution_count": 170,
     "metadata": {},
     "output_type": "execute_result"
    }
   ],
   "source": [
    "sample_data.head(2)"
   ]
  },
  {
   "cell_type": "markdown",
   "metadata": {},
   "source": [
    "### Load the Pre-Trained Model and Class Labels"
   ]
  },
  {
   "cell_type": "code",
   "execution_count": 169,
   "metadata": {},
   "outputs": [],
   "source": [
    "def load_endpoint(configs, global_vars):\n",
    "    \n",
    "    model =  sagemaker.RealTimePredictor(configs['bt_model_name'])\n",
    "    global_vars['w2v_classifier'] = model\n",
    "    return global_vars\n",
    "\n",
    "\n",
    "#find the endpoint name from your AWS Console, configure in your conf\n",
    "#load the endpoint\n",
    "global_vars = load_endpoint(configs, global_vars)\n"
   ]
  },
  {
   "cell_type": "code",
   "execution_count": 174,
   "metadata": {},
   "outputs": [
    {
     "name": "stdout",
     "output_type": "stream",
     "text": [
      "Labels Loaded \n",
      "{'Books': 0, 'Video': 1, 'Music': 2, 'Video_DVD': 3, 'Toys': 4, 'Video_Games': 5, 'Office_Products': 6, 'PC': 7, 'Camera': 8, 'Kitchen': 9, 'Electronics': 10, 'Software': 11, 'Baby': 12, 'Wireless': 13, 'Home': 14, 'Health_&_Personal_Care': 15, 'Grocery': 16, 'Beauty': 17, 'Sports': 18, 'Home_Entertainment': 19, 'Apparel': 20, 'Shoes': 21, 'Tools': 22, 'Lawn_and_Garden': 23, 'Pet_Products': 24, 'Outdoors': 25, 'Digital_Music_Purchase': 26, 'Digital_Ebook_Purchase': 27, 'Home_Improvement': 28, 'Automotive': 29, 'Jewelry': 30, 'Mobile_Apps': 31, 'Digital_Video_Download': 32}\n"
     ]
    }
   ],
   "source": [
    "def load_class_label_mapping(configs, global_vars):\n",
    "\n",
    "    filename = configs['class_labels_pickle_filename']\n",
    "    global_vars['labels'] = pickle.load( open(filename, \"rb\" ) )\n",
    "    labels_inv = {y:x for x,y in global_vars['labels'].items()}\n",
    "    global_vars['labels_inv'] = labels_inv\n",
    "    print('Labels Loaded \\n{}'.format(global_vars['labels']))\n",
    "    \n",
    "    return global_vars\n",
    "    \n",
    "global_vars = load_class_label_mapping(configs, global_vars)"
   ]
  },
  {
   "cell_type": "code",
   "execution_count": 229,
   "metadata": {},
   "outputs": [
    {
     "data": {
      "text/plain": [
       "('Books', 1.0)"
      ]
     },
     "execution_count": 229,
     "metadata": {},
     "output_type": "execute_result"
    }
   ],
   "source": [
    "def predict_product_cat_label(model, labels, text_to_predict, is_text_tokenized=True):\n",
    "    \n",
    "#     print(labels)\n",
    "    res = ''\n",
    "    if is_text_tokenized:       \n",
    "            res = str(text_to_predict).strip('][').split(', ') \n",
    "            res = ' '.join(res)\n",
    "    else:\n",
    "        res = text_to_predict\n",
    "        \n",
    "    payload = {\"instances\":[res],\n",
    "                  \"configuration\": {\"k\": 1}}\n",
    "\n",
    "#     print(payload)\n",
    "    \n",
    "    response = model.predict(json.dumps(payload))\n",
    "    \n",
    "#     print(response)\n",
    "    \n",
    "    lab_indx = int(json.loads(response)[0]['label'][0].replace('__label__',''))\n",
    "    conf = float(json.loads(response)[0]['prob'][0])\n",
    "    conf = round(conf, 3)\n",
    "                 \n",
    "    lab_string = labels[lab_indx]\n",
    "        \n",
    "    return lab_string, conf\n",
    "    \n",
    "predict_product_cat_label(global_vars['w2v_classifier'], global_vars['labels_inv'], '[this, is, a, book]', is_text_tokenized=True)\n"
   ]
  },
  {
   "cell_type": "markdown",
   "metadata": {},
   "source": [
    "### Create Graph"
   ]
  },
  {
   "cell_type": "code",
   "execution_count": 597,
   "metadata": {},
   "outputs": [
    {
     "name": "stdout",
     "output_type": "stream",
     "text": [
      "{'PC', 'Office_Products', 'Digital_Video_Download', 'Luggage', 'Books', 'Home', 'Tools', 'Shoes', 'Video_Games', 'Pet_Products', 'Lawn_and_Garden', 'Automotive', 'Home_Improvement', 'Outdoors', 'Personal_Care_Appliances', 'Video_DVD', 'Beauty', 'Kitchen', 'Home_Entertainment', 'Watches', 'Major_Appliances', 'Software', 'Health_&_Personal_Care', 'Mobile_Electronics', 'Music', 'Camera', 'Toys', 'Furniture', 'Baby', 'Sports', 'Electronics', 'Apparel', 'Wireless', 'Musical_Instruments', 'Video', 'Grocery', 'Jewelry'}\n"
     ]
    }
   ],
   "source": [
    "#the following method isn't suitable for developing large graphs, need to iterate rather than collect them\n",
    "def transform_data_to_graph(configs, global_vars, df):\n",
    "    \n",
    "    graph = Graph()\n",
    "    \n",
    "    EDGE_BOUGHT = 'BOUGHT'\n",
    "    EDGE_ASSIGNED = 'ASSIGNED'\n",
    "    EDGE_WROTE = 'WROTE'\n",
    "    EDGE_PREDICTED = 'PREDICTED'\n",
    "    EDGE_REVIEWED = 'REVIWED'\n",
    "\n",
    "    \n",
    "    #add constraints\n",
    "    graph.add_vertex_constraint(\"product\", \"product_id\")\n",
    "    graph.add_vertex_constraint(\"customer\", \"customer_id\")\n",
    "    graph.add_vertex_constraint(\"review\", \"review_id\")\n",
    "#     graph.add_vertex_constraint(\"predicted_product_category\", \"name\")\n",
    "    graph.add_vertex_constraint(\"product_category\", \"name\")\n",
    "    \n",
    "    #let's first get all the unique product categories and add them \n",
    "    unq_product_categories = set(df['product_category'].tolist())\n",
    "    print(unq_product_categories)\n",
    "    for prod_cat in unq_product_categories:\n",
    "        \n",
    "#         graph.get_or_create_vertex(\"predicted_product_category\", name=prod_cat)\n",
    "        graph.get_or_create_vertex(\"product_category\", name=prod_cat)\n",
    "    \n",
    "    #iterate and add either vertexes or edges\n",
    "    df = df.sample(frac=0.01)\n",
    "    for idx,row in df.iterrows():\n",
    "        \n",
    "        customer = graph.get_or_create_vertex(\"customer\", customer_id=row['customer_id'])\n",
    "        product = graph.get_or_create_vertex(\"product\", product_id=row['product_id'], product_name = row['product_title'])\n",
    "        review = graph.get_or_create_vertex(\"review\", \n",
    "                                            review_id=row['review_id'], \n",
    "                                            review_date=row['review_date'], \n",
    "                                            star_rating=row['star_rating'],\n",
    "                                            review_text_processed=row['review_body_processed'],\n",
    "                                           )\n",
    "        \n",
    "        cat_assigned = graph.get_vertices(\"product_category\", name=row['product_category']).all()[0]\n",
    "        \n",
    "        graph.get_or_create_edge(customer, EDGE_BOUGHT, product)\n",
    "        graph.get_or_create_edge(customer, EDGE_WROTE, review)\n",
    "        graph.get_or_create_edge(product, EDGE_REVIEWED, review)\n",
    "        graph.get_or_create_edge(product, EDGE_ASSIGNED, cat_assigned)\n",
    "        \n",
    "    return graph\n",
    "\n",
    "sample_graph = transform_data_to_graph(configs, global_vars, sample_data)\n"
   ]
  },
  {
   "cell_type": "markdown",
   "metadata": {},
   "source": [
    "### Simple Query Patterns"
   ]
  },
  {
   "cell_type": "code",
   "execution_count": 594,
   "metadata": {},
   "outputs": [
    {
     "name": "stdout",
     "output_type": "stream",
     "text": [
      "<EntitySet> items: 911\n"
     ]
    }
   ],
   "source": [
    "def simple_query(graph):\n",
    "\n",
    "    book_id = graph.get_vertices('product_category', name='Books').all()[0].as_dict()['id']\n",
    "#     print(book_id)\n",
    "    \n",
    "    results = graph.get_vertices('product') - graph.get_edges(tail=graph.get_vertex(book_id))\n",
    "\n",
    "    print(results)\n",
    "        \n",
    "simple_query(sample_graph)"
   ]
  },
  {
   "cell_type": "markdown",
   "metadata": {},
   "source": [
    "### Append Graph with Predicted Results"
   ]
  },
  {
   "cell_type": "code",
   "execution_count": 598,
   "metadata": {},
   "outputs": [],
   "source": [
    "def generate_predictions(configs, global_vars, graph, model, labels):\n",
    "    \n",
    "    EDGE_BOUGHT = 'BOUGHT'\n",
    "    EDGE_ASSIGNED = 'ASSIGNED'\n",
    "    EDGE_WROTE = 'WROTE'\n",
    "    EDGE_PREDICTED = 'PREDICTED'\n",
    "    EDGE_REVIEWED = 'REVIWED'\n",
    "    \n",
    "    for vertex in graph.get_vertices('review'):\n",
    "        \n",
    "        pred_label, conf = predict_product_cat_label(model,\n",
    "                                  labels,\n",
    "                                  vertex.as_dict()['properties']['review_text_processed'], \n",
    "                                  is_text_tokenized=True)\n",
    "        \n",
    "        cat_predicted = graph.get_or_create_vertex(\"product_category\", name=pred_label)\n",
    "        \n",
    "        graph.get_or_create_edge(vertex, EDGE_PREDICTED, cat_predicted, confidence=conf)\n",
    "#         print(vertex.get_out_edges().all())\n",
    "    return sample_graph\n",
    "        \n",
    "sample_graph = generate_predictions(configs, global_vars, sample_graph, global_vars['w2v_classifier'], global_vars['labels_inv'])\n"
   ]
  },
  {
   "cell_type": "markdown",
   "metadata": {},
   "source": [
    "### Visualize Graph"
   ]
  },
  {
   "cell_type": "code",
   "execution_count": null,
   "metadata": {
    "scrolled": true
   },
   "outputs": [],
   "source": [
    "def visualize_graph(graph):\n",
    "    \n",
    "    net = Network(height=\"1200px\", width=\"1200px\", bgcolor=\"#222222\", font_color=\"white\", notebook=True)\n",
    "    net.barnes_hut()\n",
    "    \n",
    "    \n",
    "    for vertex in graph.get_vertices('product'):\n",
    "        \n",
    "        product_node = vertex.properties['product_id']\n",
    "        \n",
    "        #add the product\n",
    "        net.add_node(product_node, product_node,  color = 'blue', labelHighlightBold=True)\n",
    "        \n",
    "       \n",
    "        assigned_cat_node = vertex.get_out_edges('ASSIGNED').all()[0].get_out_vertex().properties['name']\n",
    "        \n",
    "        # Add the  \n",
    "        net.add_node(assigned_cat_node, assigned_cat_node,  color = 'orange', labelHighlightBold=True)\n",
    "        \n",
    "     \n",
    "        #add Edges\n",
    "        net.add_edge(product_node, assigned_cat_node,   color = '')\n",
    "\n",
    "            \n",
    "        for review in vertex.get_out_edges('REVIWED').all():\n",
    "            \n",
    "            review_id = review.get_out_vertex().properties['review_id']\n",
    "            \n",
    "             # Add the Node\n",
    "            net.add_node(review_id, review_id,  color = 'red', labelHighlightBold=True)\n",
    "       \n",
    "            # Add the edge\n",
    "            net.add_edge(product_node, review_id,  color = '')\n",
    "\n",
    "    \n",
    "        customer_bought_node = vertex.get_in_edges('BOUGHT').all()[0].get_in_vertex().properties['customer_id']\n",
    "\n",
    "        \n",
    "        for customer in vertex.get_in_edges('BOUGHT').all():\n",
    "            \n",
    "            customer_id = customer.get_in_vertex().properties['customer_id']\n",
    "            \n",
    "              # Add the Node\n",
    "            net.add_node(customer_id, customer_id, color = 'red', labelHighlightBold=True)\n",
    "       \n",
    "            # Add the edge\n",
    "            net.add_edge(customer_id, customer_id,  color = '')\n",
    "\n",
    "            \n",
    "    for vertex in graph.get_vertices('customer'):\n",
    "        \n",
    "        customer_id_node = vertex.properties['customer_id']\n",
    "        for review_written_edge in vertex.get_out_edges('WROTE').all():\n",
    "            \n",
    "            review_id = review_written_edge.get_out_vertex().properties['review_id']\n",
    "            net.add_edge(customer_id_node, review_id,   color = '')\n",
    "   \n",
    "\n",
    "    for vertex in graph.get_vertices('review'):\n",
    "        \n",
    "        review_id_node = vertex.properties['review_id']\n",
    "        \n",
    "        for review_written_edge in vertex.get_out_edges('PREDICTED').all():\n",
    "            \n",
    "            category = review_written_edge.get_out_vertex().properties['name']\n",
    "            \n",
    "            try:\n",
    "                net.add_edge(review_id_node, category,   color = '')\n",
    "        \n",
    "            except:\n",
    "                net.add_node(category, category,  color = 'orange', labelHighlightBold=True)\n",
    "        \n",
    "                net.add_edge(review_id_node, category,   color = 'green')\n",
    "\n",
    "        \n",
    "    net.show_buttons()\n",
    "    return  net.show(\"visgraph.html\")\n",
    "\n",
    "    \n",
    "visualize_graph(sample_graph)"
   ]
  },
  {
   "cell_type": "markdown",
   "metadata": {},
   "source": [
    "### Complex Query\n",
    "\n",
    "For a more complex query we wish to find the following details\n",
    "\n",
    "- All Review Vertices which:\n",
    "- Have a predicted Product Catogory Label\n",
    "- Associated with a Product\n",
    "- Product Assigned Category Label is NOT the sample as Predicted Category Label"
   ]
  },
  {
   "cell_type": "code",
   "execution_count": 638,
   "metadata": {},
   "outputs": [
    {
     "name": "stdout",
     "output_type": "stream",
     "text": [
      "Predicted Label vs Assigned Label Difference 131 / 961\n"
     ]
    }
   ],
   "source": [
    "#first find the name of the vertex assigned to the product category\n",
    "\n",
    "def complex_query(graph):\n",
    "    \n",
    "    results = graph.get_vertices('review').all()\n",
    "    cnt = 0\n",
    "    set_1_sources = []\n",
    "    set_1_targets = []\n",
    "    set_1_weights = []\n",
    "    set_2_sources = []\n",
    "    set_2_targets = []\n",
    "    set_2_weights = []\n",
    "    for vert in results:\n",
    "        \n",
    "        review_id = vert.properties['review_id']\n",
    "        \n",
    "        assinged_cat = vert.get_in_edges(\n",
    "        'REVIWED').all()[0].get_in_vertex().get_out_edges('ASSIGNED').all()[0].get_out_vertex().properties['name']\n",
    "\n",
    "        pre_cat = vert.get_out_edges('PREDICTED').all()[0].get_out_vertex().properties['name']\n",
    "\n",
    "        conf = vert.get_out_edges('PREDICTED').all()[0].properties['confidence']\n",
    "            \n",
    "        if assinged_cat != pre_cat:\n",
    "    #             print(assinged_cat, pre_cat)\n",
    "            cnt += 1\n",
    "            set_1_sources.append(review_id)\n",
    "            set_1_targets.append(assinged_cat)\n",
    "            set_1_weights.append(1)\n",
    "            set_2_sources.append(review_id)\n",
    "            set_2_targets.append(pre_cat)\n",
    "            set_2_weights.append(conf)\n",
    "    print('Predicted Label vs Assigned Label Difference {} / {}'.format(cnt, len(results))) \n",
    "\n",
    "    set_1 = zip(set_1_sources, set_1_targets, set_1_weights)\n",
    "    set_2 = zip(set_2_sources, set_2_targets, set_2_weights)\n",
    "    return set_1, set_2\n",
    "\n",
    "set_1, set_2 = complex_query(sample_graph)"
   ]
  },
  {
   "cell_type": "markdown",
   "metadata": {},
   "source": [
    "### Visualize Graph"
   ]
  },
  {
   "cell_type": "code",
   "execution_count": 639,
   "metadata": {
    "scrolled": false
   },
   "outputs": [
    {
     "data": {
      "text/html": [
       "\n",
       "        <iframe\n",
       "            width=\"1200px\"\n",
       "            height=\"1200px\"\n",
       "            src=\"vismap.html\"\n",
       "            frameborder=\"0\"\n",
       "            allowfullscreen\n",
       "        ></iframe>\n",
       "        "
      ],
      "text/plain": [
       "<IPython.lib.display.IFrame at 0x7f0e49356ac8>"
      ]
     },
     "execution_count": 639,
     "metadata": {},
     "output_type": "execute_result"
    }
   ],
   "source": [
    "def visualize_sub_graph(set_1, set_2):\n",
    "    \n",
    "    net = Network(height=\"1200px\", width=\"1200px\", bgcolor=\"#222222\", font_color=\"white\", notebook=True)\n",
    "    net.barnes_hut()\n",
    "\n",
    "    \n",
    "    for e in set_1:\n",
    "        src = e[0]\n",
    "        dst = e[1]\n",
    "        w = e[2]\n",
    "\n",
    "        net.add_node(src, src, title=src, color = 'orange', labelHighlightBold=True)\n",
    "        net.add_node(dst, dst, title=dst, color = 'green')\n",
    "        net.add_edge(src, dst, title=w, value=w, color = '')\n",
    "\n",
    "    for e in set_2:\n",
    "        src = e[0]\n",
    "        dst = e[1]\n",
    "        w = e[2]\n",
    "\n",
    "        net.add_node(src, src, title=src, color = 'orange', labelHighlightBold=True)\n",
    "        net.add_node(dst, dst, title=dst, color = 'green')\n",
    "        net.add_edge(src, dst, title=w, value=w, color = 'red')    \n",
    "        \n",
    "    neighbor_map = net.get_adj_list()\n",
    "    \n",
    "    # add neighbor data to node hover data\n",
    "    for node in net.nodes:\n",
    "        node[\"title\"] += \" Neighbors:<br>\" + \"<br>\".join(neighbor_map[node[\"id\"]])\n",
    "        node[\"value\"] = len(neighbor_map[node[\"id\"]])\n",
    "        \n",
    "    net.show_buttons()\n",
    "    return  net.show(\"vismap.html\")\n",
    "\n",
    "    \n",
    "visualize_sub_graph(set_1, set_2)"
   ]
  },
  {
   "cell_type": "code",
   "execution_count": null,
   "metadata": {},
   "outputs": [],
   "source": []
  },
  {
   "cell_type": "code",
   "execution_count": 290,
   "metadata": {},
   "outputs": [],
   "source": [
    "sample_graph.dump(open(\"graph.dump\", \"w\"))"
   ]
  },
  {
   "cell_type": "code",
   "execution_count": null,
   "metadata": {},
   "outputs": [],
   "source": []
  }
 ],
 "metadata": {
  "kernelspec": {
   "display_name": "conda_mxnet_p36",
   "language": "python",
   "name": "conda_mxnet_p36"
  },
  "language_info": {
   "codemirror_mode": {
    "name": "ipython",
    "version": 3
   },
   "file_extension": ".py",
   "mimetype": "text/x-python",
   "name": "python",
   "nbconvert_exporter": "python",
   "pygments_lexer": "ipython3",
   "version": "3.6.7"
  }
 },
 "nbformat": 4,
 "nbformat_minor": 4
}
